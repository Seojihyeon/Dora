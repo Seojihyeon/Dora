{
 "cells": [
  {
   "cell_type": "code",
   "execution_count": 1,
   "metadata": {},
   "outputs": [
    {
     "name": "stdout",
     "output_type": "stream",
     "text": [
      "1까지의 합:1\n",
      "2까지의 합:3\n",
      "3까지의 합:6\n",
      "4까지의 합:10\n",
      "5까지의 합:15\n",
      "6까지의 합:21\n",
      "7까지의 합:28\n",
      "8까지의 합:36\n",
      "9까지의 합:45\n",
      "10까지의 합:55\n"
     ]
    }
   ],
   "source": [
    "sum=0\n",
    "\n",
    "for num in range(1,11):\n",
    "    sum=sum+num\n",
    "    print('%d까지의 합:%d'%(num,sum))"
   ]
  },
  {
   "cell_type": "code",
   "execution_count": 2,
   "metadata": {},
   "outputs": [
    {
     "name": "stdout",
     "output_type": "stream",
     "text": [
      "[10, 20, 30, 40, 50]\n",
      "[20, 40, 60, 80, 100]\n"
     ]
    }
   ],
   "source": [
    "lst1=[10,20,30,40,50]\n",
    "lst2=[]\n",
    "for num in lst1:\n",
    "    lst2.append(num*2)\n",
    "print(lst1)\n",
    "print(lst2)"
   ]
  },
  {
   "cell_type": "code",
   "execution_count": 4,
   "metadata": {},
   "outputs": [
    {
     "name": "stdout",
     "output_type": "stream",
     "text": [
      "==키만추출==\n",
      "1\n",
      "2\n",
      "3\n",
      "\n",
      "==값만 추출==\n",
      "a\n",
      "b\n",
      "c\n",
      "==키와 값 추출==\n",
      "1 a\n",
      "2 b\n",
      "3 c\n",
      "\n",
      "==items()메소드 사용한 키와 값 추출==\n",
      "1 a\n",
      "2 b\n",
      "3 c\n"
     ]
    }
   ],
   "source": [
    "dic={1:'a',2:'b',3:'c'}\n",
    "print('==키만추출==')\n",
    "for key in dic:\n",
    "    print(key)\n",
    "print(\"\\n==값만 추출==\")\n",
    "for key in dic:\n",
    "    print(dic[key])\n",
    "print('==키와 값 추출==')\n",
    "for key in dic:\n",
    "    print(key,dic[key])\n",
    "print('\\n==items()메소드 사용한 키와 값 추출==')\n",
    "for(key,val)in dic.items():\n",
    "    print(key,val)"
   ]
  },
  {
   "cell_type": "code",
   "execution_count": 5,
   "metadata": {},
   "outputs": [
    {
     "name": "stdout",
     "output_type": "stream",
     "text": [
      "0번 문자 : l\n",
      "1번 문자 : o\n",
      "2번 문자 : v\n",
      "3번 문자 : e\n",
      "4번 문자 : y\n",
      "5번 문자 : o\n",
      "6번 문자 : u\n"
     ]
    }
   ],
   "source": [
    "chr='loveyou'\n",
    "i=-1\n",
    "for alpha in chr:\n",
    "    i=i+1\n",
    "    print('%d번 문자 : %c'%(i,alpha))"
   ]
  },
  {
   "cell_type": "code",
   "execution_count": 8,
   "metadata": {},
   "outputs": [
    {
     "name": "stdout",
     "output_type": "stream",
     "text": [
      "1*1=1\n",
      "\n",
      "1*2=2\n",
      "\n",
      "1*3=3\n",
      "\n",
      "2*1=2\n",
      "\n",
      "2*2=4\n",
      "\n",
      "2*3=6\n",
      "\n",
      "3*1=3\n",
      "\n",
      "3*2=6\n",
      "\n",
      "3*3=9\n",
      "\n"
     ]
    }
   ],
   "source": [
    "for i in range(1,4):\n",
    "    for j in range(1,4):\n",
    "        print('%d*%d=%d'%(i,j,i*j))\n",
    "        print()"
   ]
  },
  {
   "cell_type": "code",
   "execution_count": 15,
   "metadata": {},
   "outputs": [
    {
     "name": "stdout",
     "output_type": "stream",
     "text": [
      "112123123412345"
     ]
    }
   ],
   "source": [
    "for i in range(1,6):\n",
    "    for j in range(1,i+1):\n",
    "        print(j,end='')\n",
    "        "
   ]
  },
  {
   "cell_type": "code",
   "execution_count": 17,
   "metadata": {},
   "outputs": [
    {
     "name": "stdout",
     "output_type": "stream",
     "text": [
      "1~10까지의 숫자를 입력하세요:3\n",
      "3를 입력했습니다.\n",
      "1~10까지의 숫자를 입력하세요:4\n",
      "4를 입력했습니다.\n",
      "1~10까지의 숫자를 입력하세요:5\n",
      "5를 입력했습니다.\n",
      "1~10까지의 숫자를 입력하세요:7\n",
      "7를 입력했습니다.\n",
      "4번만에 맞췄습니다.\n"
     ]
    }
   ],
   "source": [
    "guess=-1\n",
    "secret=7\n",
    "count=0\n",
    "while guess != secret:\n",
    "    count=count+1\n",
    "    guess=int(input('1~10까지의 숫자를 입력하세요:'))\n",
    "    print('%d를 입력했습니다.'%guess)\n",
    "print('%d번만에 맞췄습니다.'%count)"
   ]
  },
  {
   "cell_type": "code",
   "execution_count": 19,
   "metadata": {},
   "outputs": [
    {
     "name": "stdout",
     "output_type": "stream",
     "text": [
      "정수를 입력하세요:4\n",
      "4 팩토리얼=24\n"
     ]
    }
   ],
   "source": [
    "factorial=1\n",
    "num=1\n",
    "n=int(input('정수를 입력하세요:'))\n",
    "while num<=n:\n",
    "    factorial=factorial*num\n",
    "    num+=1\n",
    "print('%d 팩토리얼=%d'%(n,factorial))"
   ]
  },
  {
   "cell_type": "code",
   "execution_count": 23,
   "metadata": {},
   "outputs": [
    {
     "name": "stdout",
     "output_type": "stream",
     "text": [
      "1\n",
      "2\n"
     ]
    }
   ],
   "source": [
    "for i in range(1,6):\n",
    "    \n",
    "    if i==3:\n",
    "        break\n",
    "    print(i)"
   ]
  },
  {
   "cell_type": "code",
   "execution_count": 24,
   "metadata": {},
   "outputs": [
    {
     "name": "stdout",
     "output_type": "stream",
     "text": [
      "1\n",
      "2\n",
      "4\n",
      "5\n"
     ]
    }
   ],
   "source": [
    "for i in range(1,6):\n",
    "    if i==3:\n",
    "        continue\n",
    "    print(i)"
   ]
  },
  {
   "cell_type": "code",
   "execution_count": 26,
   "metadata": {},
   "outputs": [
    {
     "name": "stdout",
     "output_type": "stream",
     "text": [
      "1\n",
      "2\n",
      "4\n",
      "5\n"
     ]
    }
   ],
   "source": [
    "i=0\n",
    "while i < 5:\n",
    "    i=i+1\n",
    "    if i==3: continue\n",
    "    print(i)"
   ]
  },
  {
   "cell_type": "code",
   "execution_count": 29,
   "metadata": {},
   "outputs": [
    {
     "name": "stdout",
     "output_type": "stream",
     "text": [
      "정수입력:3\n",
      "3까지의 홀수 합계 : 4\n"
     ]
    }
   ],
   "source": [
    "sum=0\n",
    "limit=int(input('정수입력:'))\n",
    "\n",
    "num=0\n",
    "while num<=limit:\n",
    "    num=num+1\n",
    "    if num%2==0:\n",
    "        continue\n",
    "    sum=sum+num\n",
    "print('%d까지의 홀수 합계 : %d'%(limit,sum))"
   ]
  },
  {
   "cell_type": "code",
   "execution_count": 31,
   "metadata": {},
   "outputs": [
    {
     "name": "stdout",
     "output_type": "stream",
     "text": [
      "1\n",
      "2\n"
     ]
    }
   ],
   "source": [
    "for i in range(1,6):\n",
    "    if i==3:\n",
    "        break\n",
    "    print(i)\n",
    "else:\n",
    "    print('모든 숫자가 출력되었습니다.')"
   ]
  },
  {
   "cell_type": "code",
   "execution_count": 32,
   "metadata": {},
   "outputs": [
    {
     "name": "stdout",
     "output_type": "stream",
     "text": [
      "1\n",
      "2\n",
      "3\n",
      "4\n",
      "5\n",
      "모든 숫자가 출력되었습니다\n"
     ]
    }
   ],
   "source": [
    "for i in range(1,6):\n",
    "    if i==10:\n",
    "        break\n",
    "    print(i)\n",
    "else: \n",
    "    print('모든 숫자가 출력되었습니다')"
   ]
  },
  {
   "cell_type": "code",
   "execution_count": 35,
   "metadata": {},
   "outputs": [
    {
     "name": "stdout",
     "output_type": "stream",
     "text": [
      "[2, 4, 6, 8, 10]\n",
      "[2, 4, 6, 8, 10]\n",
      "[4, 8]\n"
     ]
    }
   ],
   "source": [
    "lst1=[1,2,3,4,5]\n",
    "lst2=[]\n",
    "lst3=[]\n",
    "lst4=[]\n",
    "for val in lst1:\n",
    "    lst2.append(val*2)\n",
    "print(lst2)\n",
    "\n",
    "lst3=[val*2 for val in lst1]\n",
    "print(lst3)\n",
    "\n",
    "lst4=[val*2 for val in lst1 if val%2==0]\n",
    "print(lst4)\n",
    "\n",
    "\n"
   ]
  },
  {
   "cell_type": "code",
   "execution_count": null,
   "metadata": {},
   "outputs": [],
   "source": []
  }
 ],
 "metadata": {
  "kernelspec": {
   "display_name": "Python 3",
   "language": "python",
   "name": "python3"
  },
  "language_info": {
   "codemirror_mode": {
    "name": "ipython",
    "version": 3
   },
   "file_extension": ".py",
   "mimetype": "text/x-python",
   "name": "python",
   "nbconvert_exporter": "python",
   "pygments_lexer": "ipython3",
   "version": "3.6.4"
  }
 },
 "nbformat": 4,
 "nbformat_minor": 2
}
