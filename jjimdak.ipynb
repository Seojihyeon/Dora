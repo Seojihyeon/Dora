{
 "cells": [
  {
   "cell_type": "code",
   "execution_count": 1,
   "metadata": {},
   "outputs": [],
   "source": [
    "list1=['내찜닭','치사닭','대포찜닭','봉추는 out','장군찜닭','일미리 금계 찜닭','뚝닭(가보잣)','마녀찜닭(가야 함)']"
   ]
  },
  {
   "cell_type": "code",
   "execution_count": 2,
   "metadata": {},
   "outputs": [],
   "source": [
    "my_mind='Korea'\n",
    "food='Brazil'"
   ]
  },
  {
   "cell_type": "code",
   "execution_count": 3,
   "metadata": {},
   "outputs": [
    {
     "name": "stdout",
     "output_type": "stream",
     "text": [
      "보기에서 먹고 싶은 음식의 나라를 고르시오Japan\n",
      "헤헤헤 다른 거 먹을래!\n",
      "보기에서 먹고 싶은 음식의 나라를 고르시오Korea\n",
      "헤헤헤 다른 거 먹을래!\n",
      "2번만에 맞췄습니다.추카추카\n"
     ]
    }
   ],
   "source": [
    "#사실은 답정너인 서지현의 음식고르기\n",
    "\n",
    "#보기\n",
    "list=['Korea','Japan','China','Italy','Vietnam','Thailand','India','Mexico','Spain','etc']\n",
    "\n",
    "\n",
    "count=0\n",
    "while my_mind!=food:\n",
    "    food=input('보기에서 먹고 싶은 음식의 나라를 고르시오')\n",
    "    print('헤헤헤 다른 거 먹을래!')\n",
    "    count=count+1\n",
    "\n",
    "\n",
    "print('%d번만에 맞췄습니다.추카추카'%count)"
   ]
  },
  {
   "cell_type": "code",
   "execution_count": 4,
   "metadata": {},
   "outputs": [
    {
     "name": "stdout",
     "output_type": "stream",
     "text": [
      "['내찜닭', '치사닭', '대포찜닭', '봉추는 out', '장군찜닭', '일미리 금계 찜닭', '뚝닭(가보잣)', '마녀찜닭(가야 함)']\n"
     ]
    }
   ],
   "source": [
    "print(list1)"
   ]
  },
  {
   "cell_type": "code",
   "execution_count": 5,
   "metadata": {},
   "outputs": [
    {
     "name": "stdout",
     "output_type": "stream",
     "text": [
      "오늘 저녁은 한식이닷>_<!!!!!이예에에에에에에 리스트는 이미 만들어뒀으니까 실행시키기만 하면 됨! 리스트 안에서 골라봐!\n"
     ]
    }
   ],
   "source": [
    "print('오늘 저녁은 한식이닷>_<!!!!!이예에에에에에에 리스트는 이미 만들어뒀으니까 실행시키기만 하면 됨! 리스트 안에서 골라봐!')"
   ]
  },
  {
   "cell_type": "code",
   "execution_count": 6,
   "metadata": {},
   "outputs": [
    {
     "name": "stdout",
     "output_type": "stream",
     "text": [
      "['내찜닭', '치사닭', '대포찜닭', '봉추는 out', '장군찜닭', '일미리 금계 찜닭', '뚝닭(가보잣)', '마녀찜닭(가야 함)']\n"
     ]
    }
   ],
   "source": [
    "print(list1)"
   ]
  }
 ],
 "metadata": {
  "kernelspec": {
   "display_name": "Python 3",
   "language": "python",
   "name": "python3"
  },
  "language_info": {
   "codemirror_mode": {
    "name": "ipython",
    "version": 3
   },
   "file_extension": ".py",
   "mimetype": "text/x-python",
   "name": "python",
   "nbconvert_exporter": "python",
   "pygments_lexer": "ipython3",
   "version": "3.6.4"
  }
 },
 "nbformat": 4,
 "nbformat_minor": 2
}
